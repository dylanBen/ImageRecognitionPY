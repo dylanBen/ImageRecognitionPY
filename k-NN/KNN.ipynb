{
 "cells": [
  {
   "cell_type": "code",
   "execution_count": 1,
   "metadata": {
    "collapsed": true,
    "pycharm": {
     "is_executing": false
    }
   },
   "outputs": [],
   "source": [
    "#import des classes et librairies\n",
    "import Classe.Data as data\n",
    "import Package.model as model\n",
    "import matplotlib.pyplot as plt"
   ]
  },
  {
   "cell_type": "code",
   "execution_count": 2,
   "outputs": [
    {
     "name": "stdout",
     "text": [
      "Loading images...\n",
      "Images loaded successfully.\n"
     ],
     "output_type": "stream"
    }
   ],
   "source": [
    "#chargement des différentes images depuis le dossier data\n",
    "donne = data.TuberculosisDataset()\n",
    "donne.loadData()"
   ],
   "metadata": {
    "collapsed": false,
    "pycharm": {
     "name": "#%%\n",
     "is_executing": false
    }
   }
  },
  {
   "cell_type": "code",
   "execution_count": 3,
   "outputs": [
    {
     "name": "stdout",
     "text": [
      "Training Images (Shape):  (398, 36864)\n",
      "Training Labels (Shape):  (398,)\n"
     ],
     "output_type": "stream"
    }
   ],
   "source": [
    "#récupération des images de test et de train\n",
    "dataTrain, labelTrain = donne.getTrainData()\n",
    "dataTest, labelTest = donne.getTestData()\n",
    "\n",
    "#Affichage du format des images utilisées\n",
    "print(\"Training Images (Shape): \", dataTrain.shape);\n",
    "print(\"Training Labels (Shape): \", labelTrain.shape);"
   ],
   "metadata": {
    "collapsed": false,
    "pycharm": {
     "name": "#%%\n",
     "is_executing": false
    }
   }
  },
  {
   "cell_type": "code",
   "execution_count": 4,
   "outputs": [
    {
     "name": "stdout",
     "text": [
      "knn en cours 2\n",
      "pourcentage d'erreurs : 28.25 %\n",
      "knn en cours 3\n",
      "pourcentage d'erreurs : 31.0 %\n",
      "knn en cours 4\n",
      "pourcentage d'erreurs : 28.5 %\n",
      "knn en cours 5\n",
      "pourcentage d'erreurs : 30.0 %\n",
      "knn en cours 6\n",
      "pourcentage d'erreurs : 28.75 %\n",
      "knn en cours 7\n",
      "pourcentage d'erreurs : 27.75 %\n",
      "knn en cours 8\n",
      "pourcentage d'erreurs : 27.5 %\n",
      "knn en cours 9\n",
      "pourcentage d'erreurs : 27.75 %\n",
      "knn en cours 10\n",
      "pourcentage d'erreurs : 28.5 %\n",
      "knn en cours 11\n",
      "pourcentage d'erreurs : 29.25 %\n",
      "knn en cours 12\n",
      "pourcentage d'erreurs : 28.75 %\n",
      "knn en cours 13\n",
      "pourcentage d'erreurs : 29.25 %\n",
      "knn en cours 14\n",
      "pourcentage d'erreurs : 29.75 %\n",
      "KNN le plus fiable 8   avec une erreur de 27.5 %\n"
     ],
     "output_type": "stream"
    },
    {
     "data": {
      "text/plain": "<Figure size 432x288 with 1 Axes>",
      "image/png": "[encoded data removed]"
     },
     "metadata": {
      "needs_background": "light"
     },
     "output_type": "display_data"
    }
   ],
   "source": [
    "#génération du knn avec les différents jeu de donnée\n",
    "KKN_Gen = model.kkn_initial(dataTrain, labelTrain, dataTest, labelTest)"
   ],
   "metadata": {
    "collapsed": false,
    "pycharm": {
     "name": "#%%\n",
     "is_executing": false
    }
   }
  },
  {
   "cell_type": "code",
   "execution_count": 5,
   "outputs": [
    {
     "name": "stdout",
     "text": [
      "conversion...\n",
      "Training Images (Shape):  (398, 192, 192)\n"
     ],
     "output_type": "stream"
    }
   ],
   "source": [
    "print(\"conversion...\")\n",
    "images = dataTrain.reshape((-1, 192, 192))\n",
    "print(\"Training Images (Shape): \", images.shape);\n",
    "\n",
    "plt.imshow(images[2],cmap=plt.cm.gray_r,interpolation=\"nearest\")\n",
    "plt.show()\n",
    "\n"
   ],
   "metadata": {
    "collapsed": false,
    "pycharm": {
     "name": "#%%\n",
     "is_executing": false
    }
   }
  }
 ],
 "metadata": {
  "kernelspec": {
   "display_name": "Python 3",
   "language": "python",
   "name": "python3"
  },
  "language_info": {
   "codemirror_mode": {
    "name": "ipython",
    "version": 2
   },
   "file_extension": ".py",
   "mimetype": "text/x-python",
   "name": "python",
   "nbconvert_exporter": "python",
   "pygments_lexer": "ipython2",
   "version": "2.7.6"
  },
  "pycharm": {
   "stem_cell": {
    "cell_type": "raw",
    "source": [],
    "metadata": {
     "collapsed": false
    }
   }
  }
 },
 "nbformat": 4,
 "nbformat_minor": 0
}
